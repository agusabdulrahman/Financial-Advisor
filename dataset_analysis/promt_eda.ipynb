{
 "cells": [
  {
   "cell_type": "code",
   "execution_count": null,
   "metadata": {},
   "outputs": [],
   "source": []
  },
  {
   "cell_type": "markdown",
   "metadata": {},
   "source": [
    "## Prompt Exploratory Data Analysis\n",
    "Using this notebook, we can analyze and extract key insight from the promt used for trainig our LLM model.\n",
    "\n",
    "#### Eda Overview\n",
    "Token Wise:\n",
    "- Average Tokens Lengt\n",
    "- Token Lengths Distribution\n",
    "- Min/Max in tokes \n",
    "\n",
    "Coverage:\n",
    "- Promt Coverage as a funtion of tokens length\n",
    "- Promt coverage as a funtion of hardcoded LLM context size"
   ]
  },
  {
   "cell_type": "code",
   "execution_count": 1,
   "metadata": {},
   "outputs": [
    {
     "name": "stdout",
     "output_type": "stream",
     "text": [
      "Requirement already satisfied: seaborn in c:\\users\\agusa\\anaconda3\\envs\\tf\\lib\\site-packages (0.11.2)\n",
      "Requirement already satisfied: matplotlib in c:\\users\\agusa\\appdata\\roaming\\python\\python311\\site-packages (3.7.2)\n",
      "Requirement already satisfied: datasets in c:\\users\\agusa\\anaconda3\\envs\\tf\\lib\\site-packages (2.14.7)\n",
      "Requirement already satisfied: transformers in c:\\users\\agusa\\anaconda3\\envs\\tf\\lib\\site-packages (4.32.1)\n",
      "Collecting wordcloud\n",
      "  Downloading wordcloud-1.9.3-cp311-cp311-win_amd64.whl.metadata (3.5 kB)\n",
      "Requirement already satisfied: numpy>=1.15 in c:\\users\\agusa\\anaconda3\\envs\\tf\\lib\\site-packages (from seaborn) (1.24.4)\n",
      "Requirement already satisfied: scipy>=1.0 in c:\\users\\agusa\\anaconda3\\envs\\tf\\lib\\site-packages (from seaborn) (1.11.4)\n",
      "Requirement already satisfied: pandas>=0.23 in c:\\users\\agusa\\anaconda3\\envs\\tf\\lib\\site-packages (from seaborn) (1.5.3)\n",
      "Requirement already satisfied: contourpy>=1.0.1 in c:\\users\\agusa\\appdata\\roaming\\python\\python311\\site-packages (from matplotlib) (1.1.0)\n",
      "Requirement already satisfied: cycler>=0.10 in c:\\users\\agusa\\anaconda3\\envs\\tf\\lib\\site-packages (from matplotlib) (0.10.0)\n",
      "Requirement already satisfied: fonttools>=4.22.0 in c:\\users\\agusa\\appdata\\roaming\\python\\python311\\site-packages (from matplotlib) (4.42.1)\n",
      "Requirement already satisfied: kiwisolver>=1.0.1 in c:\\users\\agusa\\appdata\\roaming\\python\\python311\\site-packages (from matplotlib) (1.4.5)\n",
      "Requirement already satisfied: packaging>=20.0 in c:\\users\\agusa\\anaconda3\\envs\\tf\\lib\\site-packages (from matplotlib) (23.1)\n",
      "Requirement already satisfied: pillow>=6.2.0 in c:\\users\\agusa\\appdata\\roaming\\python\\python311\\site-packages (from matplotlib) (10.0.0)\n",
      "Requirement already satisfied: pyparsing<3.1,>=2.3.1 in c:\\users\\agusa\\appdata\\roaming\\python\\python311\\site-packages (from matplotlib) (3.0.9)\n",
      "Requirement already satisfied: python-dateutil>=2.7 in c:\\users\\agusa\\anaconda3\\envs\\tf\\lib\\site-packages (from matplotlib) (2.8.2)\n",
      "Requirement already satisfied: pyarrow>=8.0.0 in c:\\users\\agusa\\anaconda3\\envs\\tf\\lib\\site-packages (from datasets) (12.0.1)\n",
      "Requirement already satisfied: pyarrow-hotfix in c:\\users\\agusa\\anaconda3\\envs\\tf\\lib\\site-packages (from datasets) (0.5)\n",
      "Requirement already satisfied: dill<0.3.8,>=0.3.0 in c:\\users\\agusa\\anaconda3\\envs\\tf\\lib\\site-packages (from datasets) (0.3.7)\n",
      "Requirement already satisfied: requests>=2.19.0 in c:\\users\\agusa\\anaconda3\\envs\\tf\\lib\\site-packages (from datasets) (2.31.0)\n",
      "Requirement already satisfied: tqdm>=4.62.1 in c:\\users\\agusa\\anaconda3\\envs\\tf\\lib\\site-packages (from datasets) (4.66.1)\n",
      "Requirement already satisfied: xxhash in c:\\users\\agusa\\anaconda3\\envs\\tf\\lib\\site-packages (from datasets) (2.0.2)\n",
      "Requirement already satisfied: multiprocess in c:\\users\\agusa\\anaconda3\\envs\\tf\\lib\\site-packages (from datasets) (0.70.15)\n",
      "Requirement already satisfied: fsspec<=2023.10.0,>=2023.1.0 in c:\\users\\agusa\\anaconda3\\envs\\tf\\lib\\site-packages (from fsspec[http]<=2023.10.0,>=2023.1.0->datasets) (2023.10.0)\n",
      "Requirement already satisfied: aiohttp in c:\\users\\agusa\\anaconda3\\envs\\tf\\lib\\site-packages (from datasets) (3.8.5)\n",
      "Requirement already satisfied: huggingface-hub<1.0.0,>=0.14.0 in c:\\users\\agusa\\anaconda3\\envs\\tf\\lib\\site-packages (from datasets) (0.19.3)\n",
      "Requirement already satisfied: pyyaml>=5.1 in c:\\users\\agusa\\anaconda3\\envs\\tf\\lib\\site-packages (from datasets) (6.0.1)\n",
      "Requirement already satisfied: filelock in c:\\users\\agusa\\anaconda3\\envs\\tf\\lib\\site-packages (from transformers) (3.13.1)\n",
      "Requirement already satisfied: regex!=2019.12.17 in c:\\users\\agusa\\anaconda3\\envs\\tf\\lib\\site-packages (from transformers) (2023.10.3)\n",
      "Requirement already satisfied: tokenizers!=0.11.3,<0.14,>=0.11.1 in c:\\users\\agusa\\anaconda3\\envs\\tf\\lib\\site-packages (from transformers) (0.13.3)\n",
      "Requirement already satisfied: safetensors>=0.3.1 in c:\\users\\agusa\\anaconda3\\envs\\tf\\lib\\site-packages (from transformers) (0.4.0)\n",
      "Requirement already satisfied: six in c:\\users\\agusa\\anaconda3\\envs\\tf\\lib\\site-packages (from cycler>=0.10->matplotlib) (1.16.0)\n",
      "Requirement already satisfied: attrs>=17.3.0 in c:\\users\\agusa\\anaconda3\\envs\\tf\\lib\\site-packages (from aiohttp->datasets) (23.1.0)\n",
      "Requirement already satisfied: charset-normalizer<4.0,>=2.0 in c:\\users\\agusa\\anaconda3\\envs\\tf\\lib\\site-packages (from aiohttp->datasets) (2.0.4)\n",
      "Requirement already satisfied: multidict<7.0,>=4.5 in c:\\users\\agusa\\anaconda3\\envs\\tf\\lib\\site-packages (from aiohttp->datasets) (6.0.2)\n",
      "Requirement already satisfied: async-timeout<5.0,>=4.0.0a3 in c:\\users\\agusa\\anaconda3\\envs\\tf\\lib\\site-packages (from aiohttp->datasets) (4.0.3)\n",
      "Requirement already satisfied: yarl<2.0,>=1.0 in c:\\users\\agusa\\anaconda3\\envs\\tf\\lib\\site-packages (from aiohttp->datasets) (1.8.1)\n",
      "Requirement already satisfied: frozenlist>=1.1.1 in c:\\users\\agusa\\anaconda3\\envs\\tf\\lib\\site-packages (from aiohttp->datasets) (1.4.0)\n",
      "Requirement already satisfied: aiosignal>=1.1.2 in c:\\users\\agusa\\anaconda3\\envs\\tf\\lib\\site-packages (from aiohttp->datasets) (1.3.1)\n",
      "Requirement already satisfied: typing-extensions>=3.7.4.3 in c:\\users\\agusa\\anaconda3\\envs\\tf\\lib\\site-packages (from huggingface-hub<1.0.0,>=0.14.0->datasets) (4.8.0)\n",
      "Requirement already satisfied: pytz>=2020.1 in c:\\users\\agusa\\anaconda3\\envs\\tf\\lib\\site-packages (from pandas>=0.23->seaborn) (2023.3.post1)\n",
      "Requirement already satisfied: idna<4,>=2.5 in c:\\users\\agusa\\anaconda3\\envs\\tf\\lib\\site-packages (from requests>=2.19.0->datasets) (2.10)\n",
      "Requirement already satisfied: urllib3<3,>=1.21.1 in c:\\users\\agusa\\anaconda3\\envs\\tf\\lib\\site-packages (from requests>=2.19.0->datasets) (1.26.18)\n",
      "Requirement already satisfied: certifi>=2017.4.17 in c:\\users\\agusa\\anaconda3\\envs\\tf\\lib\\site-packages (from requests>=2.19.0->datasets) (2023.7.22)\n",
      "Requirement already satisfied: colorama in c:\\users\\agusa\\anaconda3\\envs\\tf\\lib\\site-packages (from tqdm>=4.62.1->datasets) (0.4.4)\n",
      "Downloading wordcloud-1.9.3-cp311-cp311-win_amd64.whl (300 kB)\n",
      "   ---------------------------------------- 0.0/300.2 kB ? eta -:--:--\n",
      "   - -------------------------------------- 10.2/300.2 kB ? eta -:--:--\n",
      "   ----- --------------------------------- 41.0/300.2 kB 279.3 kB/s eta 0:00:01\n",
      "   --------- ----------------------------- 71.7/300.2 kB 326.8 kB/s eta 0:00:01\n",
      "   --------------- ---------------------- 122.9/300.2 kB 423.5 kB/s eta 0:00:01\n",
      "   ------------------------ ------------- 194.6/300.2 kB 535.8 kB/s eta 0:00:01\n",
      "   ---------------------------- --------- 225.3/300.2 kB 550.0 kB/s eta 0:00:01\n",
      "   ----------------------------------- -- 276.5/300.2 kB 472.9 kB/s eta 0:00:01\n",
      "   -------------------------------------- 300.2/300.2 kB 475.3 kB/s eta 0:00:00\n",
      "Installing collected packages: wordcloud\n",
      "Successfully installed wordcloud-1.9.3\n"
     ]
    }
   ],
   "source": [
    "# Setup Dependencies\n",
    "! pip install seaborn matplotlib datasets transformers wordcloud"
   ]
  },
  {
   "cell_type": "code",
   "execution_count": 5,
   "metadata": {},
   "outputs": [],
   "source": [
    "from enum import Enum \n",
    "from pathlib import Path\n",
    "from datasets import load_dataset\n",
    "from dataclasses import dataclass, field"
   ]
  },
  {
   "cell_type": "code",
   "execution_count": null,
   "metadata": {},
   "outputs": [],
   "source": []
  }
 ],
 "metadata": {
  "kernelspec": {
   "display_name": "tf",
   "language": "python",
   "name": "python3"
  },
  "language_info": {
   "codemirror_mode": {
    "name": "ipython",
    "version": 3
   },
   "file_extension": ".py",
   "mimetype": "text/x-python",
   "name": "python",
   "nbconvert_exporter": "python",
   "pygments_lexer": "ipython3",
   "version": "3.11.5"
  }
 },
 "nbformat": 4,
 "nbformat_minor": 2
}
